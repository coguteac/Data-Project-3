{
 "cells": [
  {
   "cell_type": "markdown",
   "id": "6d038035-4596-4aaf-bce2-9c7ace2d55d4",
   "metadata": {},
   "source": [
    "# Hacker News Post"
   ]
  },
  {
   "cell_type": "markdown",
   "id": "fdd06847-96b3-49cf-9b93-979a539ab3bd",
   "metadata": {},
   "source": [
    "***"
   ]
  },
  {
   "cell_type": "markdown",
   "id": "19df7acb-2cbf-4407-97eb-ded4c147cafd",
   "metadata": {
    "jp-MarkdownHeadingCollapsed": true
   },
   "source": [
    "## Import and open the file\n",
    "\n",
    "**Store the header and the data in separate variables**"
   ]
  },
  {
   "cell_type": "code",
   "execution_count": 8,
   "id": "119abfd0-49d0-452f-8511-2d27999a007b",
   "metadata": {},
   "outputs": [
    {
     "name": "stdout",
     "output_type": "stream",
     "text": [
      "['id', 'title', 'url', 'num_points', 'num_comments', 'author', 'created_at']\n",
      "\n",
      "\n",
      "['12224879', 'Interactive Dynamic Video', 'http://www.interactivedynamicvideo.com/', '386', '52', 'ne0phyte', '8/4/2016 11:52']\n",
      "['10975351', 'How to Use Open Source and Shut the Fuck Up at the Same Time', 'http://hueniverse.com/2016/01/26/how-to-use-open-source-and-shut-the-fuck-up-at-the-same-time/', '39', '10', 'josep2', '1/26/2016 19:30']\n",
      "['11964716', \"Florida DJs May Face Felony for April Fools' Water Joke\", 'http://www.thewire.com/entertainment/2013/04/florida-djs-april-fools-water-joke/63798/', '2', '1', 'vezycash', '6/23/2016 22:20']\n",
      "['11919867', 'Technology ventures: From Idea to Enterprise', 'https://www.amazon.com/Technology-Ventures-Enterprise-Thomas-Byers/dp/0073523429', '3', '1', 'hswarna', '6/17/2016 0:01']\n",
      "['10301696', 'Note by Note: The Making of Steinway L1037 (2007)', 'http://www.nytimes.com/2007/11/07/movies/07stein.html?_r=0', '8', '2', 'walterbell', '9/30/2015 4:12']\n"
     ]
    }
   ],
   "source": [
    "from csv import reader\n",
    "\n",
    "with open('hacker_news.csv') as file:\n",
    "    read = reader(file)\n",
    "    hn = list(read)\n",
    "\n",
    "# separate the header and the data\n",
    "header = hn[0]\n",
    "hn = hn[1:]\n",
    "\n",
    "\n",
    "# print data to see if the reading went well\n",
    "print(header) \n",
    "print(\"\\n\")\n",
    "for item in hn[:5]:\n",
    "    print(item)"
   ]
  },
  {
   "cell_type": "markdown",
   "id": "ebde5452-c30f-41c4-a9f4-56a7ebc210c1",
   "metadata": {},
   "source": [
    "***"
   ]
  },
  {
   "cell_type": "markdown",
   "id": "c43340dc-837c-4155-967c-1a525a18c6c8",
   "metadata": {
    "jp-MarkdownHeadingCollapsed": true
   },
   "source": [
    "## Meaning of each column"
   ]
  },
  {
   "cell_type": "markdown",
   "id": "4d0dddf9-c8ca-43f9-9514-fe98c76ab144",
   "metadata": {},
   "source": [
    "1. **id**: the unique identifier from Hacker News for the post\n",
    "2. **title**: the title of the post\n",
    "3. **url**: the URL that the posts links to, if the post has a URL\n",
    "4. **num_points**: the number of points the post acquired, calculated as the total number of upvotes minus the total number of downvotes\n",
    "5. **num_comments**: the number of comments on the post\n",
    "6. **author**: the username of the person who submitted the post\n",
    "7. **created_at**: the date and time of the post's submission"
   ]
  },
  {
   "cell_type": "markdown",
   "id": "1a2d07d6-004b-416d-aae9-3749bba6317f",
   "metadata": {},
   "source": [
    "***"
   ]
  },
  {
   "cell_type": "markdown",
   "id": "3818ebaf-15f5-47e6-a493-2d0dd1c71f68",
   "metadata": {
    "jp-MarkdownHeadingCollapsed": true
   },
   "source": [
    "## Extract the 'Ask HN' and 'Show HN' posts"
   ]
  },
  {
   "cell_type": "code",
   "execution_count": 26,
   "id": "2c885e25-631e-4793-b76b-3b2133ba8bf6",
   "metadata": {},
   "outputs": [
    {
     "name": "stdout",
     "output_type": "stream",
     "text": [
      "1162 1744 17194\n"
     ]
    }
   ],
   "source": [
    "# loop over the hn and test if the item at the index 2 starts with 'Ask HN' or 'Show HN'\n",
    "# store the data in show_posts, ask_posts and other_posts\n",
    "\n",
    "show_posts, ask_posts, other_posts = [], [], []\n",
    "\n",
    "for post in hn:\n",
    "    title = post[1]\n",
    "    if title.lower().startswith(\"ask hn\"):\n",
    "        ask_posts.append(post)\n",
    "    elif title.lower().startswith(\"show hn\"):\n",
    "        show_posts.append(post)\n",
    "    else:\n",
    "        other_posts.append(post)\n",
    "\n",
    "# show_posts (1162); ask_posts (1744); other_posts(17194)\n",
    "print(len(show_posts), len(ask_posts), len(other_posts))   \n",
    "\n"
   ]
  },
  {
   "cell_type": "markdown",
   "id": "006b77bd-ea3d-434c-8f42-6c0598de398e",
   "metadata": {},
   "source": [
    "___"
   ]
  },
  {
   "cell_type": "markdown",
   "id": "fb205dce-f1e2-448e-89a5-037bdcb626f4",
   "metadata": {},
   "source": [
    "## Calculate the average number of comments for 'Ask' and 'Show'"
   ]
  },
  {
   "cell_type": "code",
   "execution_count": 25,
   "id": "88ed969e-e4fd-4513-9a0e-d93daf73d305",
   "metadata": {},
   "outputs": [
    {
     "name": "stdout",
     "output_type": "stream",
     "text": [
      "14 average comments per ask post.\n",
      "10 average comments per show post.\n"
     ]
    }
   ],
   "source": [
    "number_ask = 0\n",
    "number_show = 0\n",
    "\n",
    "# ask average comments\n",
    "for post in ask_posts:\n",
    "    number_ask += int(post[4])\n",
    "average_comm_ask = round(number_ask / len(ask_posts))\n",
    "    \n",
    "# show average comments\n",
    "for post in show_posts:\n",
    "    number_show += int(post[4])\n",
    "average_comm_show = round(number_show / len(show_posts))\n",
    "\n",
    "# print the average comments per ask post and per show post\n",
    "print(f\"{average_comm_ask} average comments per ask post.\")\n",
    "print(f\"{average_comm_show} average comments per show post.\")"
   ]
  },
  {
   "cell_type": "markdown",
   "id": "3ebee714-bae1-40ab-8fc5-e65ea1910755",
   "metadata": {},
   "source": [
    "> **The ask posts on average receive more (14 comments) than the show posts (10 comments). Since ask posts are more likely to receive comments, we'll focus our remaining analysis just on these posts.**"
   ]
  },
  {
   "cell_type": "markdown",
   "id": "2fd1693f-e735-45d0-8396-57f23c5026e6",
   "metadata": {},
   "source": [
    "___"
   ]
  },
  {
   "cell_type": "markdown",
   "id": "01ab706f-e44d-442f-9ff4-7b2efbe21f2c",
   "metadata": {
    "jp-MarkdownHeadingCollapsed": true
   },
   "source": [
    "## Comments-per-post ratio based on the hours of posting 'Ask' posts"
   ]
  },
  {
   "cell_type": "code",
   "execution_count": 56,
   "id": "f74c8bb8-c1bc-47a2-9c97-ded98545d6be",
   "metadata": {},
   "outputs": [
    {
     "name": "stdout",
     "output_type": "stream",
     "text": [
      "The values below show the number of commentaries left per hour in descending order\n",
      "(4477, 15)\n",
      "(1814, 16)\n",
      "(1745, 21)\n",
      "(1722, 20)\n",
      "(1439, 18)\n",
      "(1416, 14)\n",
      "(1381, 2)\n",
      "(1253, 13)\n",
      "(1188, 19)\n",
      "(1146, 17)\n",
      "(793, 10)\n",
      "(687, 12)\n",
      "(683, 1)\n",
      "(641, 11)\n",
      "(543, 23)\n",
      "(492, 8)\n",
      "(479, 22)\n",
      "(464, 5)\n",
      "(447, 0)\n",
      "(421, 3)\n",
      "(397, 6)\n",
      "(337, 4)\n",
      "(267, 7)\n",
      "(251, 9)\n",
      "\n",
      "\n",
      "The values below show the number of posts per hour, not sorted\n",
      "9 45\n",
      "13 85\n",
      "10 59\n",
      "14 107\n",
      "16 108\n",
      "23 68\n",
      "12 73\n",
      "17 100\n",
      "15 116\n",
      "21 109\n",
      "20 80\n",
      "2 58\n",
      "18 109\n",
      "3 54\n",
      "5 46\n",
      "19 110\n",
      "1 60\n",
      "22 71\n",
      "8 48\n",
      "4 47\n",
      "0 55\n",
      "6 44\n",
      "7 34\n",
      "11 58\n",
      "\n",
      "\n",
      "The data from below shows the hours with the greatest ratio of comments per posts.\n",
      "(15, 38.6)\n",
      "(2, 23.8)\n",
      "(20, 21.5)\n",
      "(16, 16.8)\n",
      "(21, 16.0)\n",
      "(13, 14.7)\n",
      "(10, 13.4)\n",
      "(18, 13.2)\n",
      "(14, 13.2)\n",
      "(17, 11.5)\n",
      "(1, 11.4)\n",
      "(11, 11.1)\n",
      "(19, 10.8)\n",
      "(8, 10.2)\n",
      "(5, 10.1)\n",
      "(12, 9.4)\n",
      "(6, 9.0)\n",
      "(0, 8.1)\n",
      "(23, 8.0)\n",
      "(7, 7.9)\n",
      "(3, 7.8)\n",
      "(4, 7.2)\n",
      "(22, 6.7)\n",
      "(9, 5.6)\n"
     ]
    }
   ],
   "source": [
    "# In this code block we will loop over the ask_posts list and...\n",
    "# ...distribute the comments based on time periods in which they were posted.\n",
    "# We will consider each hour of the day. \n",
    "\n",
    "\n",
    "import datetime as dt\n",
    "\n",
    "hour_comm_dict = {}\n",
    "hour_post_dict = {}\n",
    "\n",
    "for post in ask_posts:\n",
    "    time_key = dt.datetime.strptime(post[6], \"%m/%d/%Y %H:%M\").hour\n",
    "\n",
    "    if time_key not in hour_comm_dict:\n",
    "        hour_comm_dict[time_key] = int(post[4])\n",
    "    else:\n",
    "        hour_comm_dict[time_key] += int(post[4])\n",
    "\n",
    "    if time_key not in hour_post_dict:\n",
    "        hour_post_dict[time_key] = 1\n",
    "    else:\n",
    "        hour_post_dict[time_key] += 1\n",
    "\n",
    "\n",
    "\n",
    "# Convert the dict in list of tuples and sort in ascending order\n",
    "hour_comm_list = []\n",
    "for key, value in hour_comm_dict.items():\n",
    "    hour_comm_list.append((key, value))\n",
    "hour_comm_list = sorted(hour_comm_list)\n",
    "\n",
    "\n",
    "\n",
    "\n",
    "# Also lets create a comm_hour_list that will be sorted in the descending order based on the commentary number\n",
    "\n",
    "comm_hour_list = []\n",
    "for key, value in hour_comm_dict.items():\n",
    "    comm_hour_list.append((value, key))\n",
    "comm_hour_list = sorted(comm_hour_list, reverse = True)\n",
    "\n",
    "\n",
    "\n",
    "\n",
    "# Print both the comm_hour_list and the hour_post_dict:\n",
    "## CONCLUSION comm_hour_list could be used for understanding at what hours people are the most active in terms of comments\n",
    "print(\"The values below show the number of commentaries left per hour in descending order\")\n",
    "for item in comm_hour_list:\n",
    "    print(item)\n",
    "print(\"\\n\")    \n",
    "\n",
    "\n",
    "print(\"The values below show the number of posts per hour, not sorted\")\n",
    "for hour, post_count in hour_post_dict.items():\n",
    "    print(hour, post_count)\n",
    "print(\"\\n\")     \n",
    "\n",
    "\n",
    "# What we are actually looking is the hour that shows the greates comments per post_count    \n",
    "hours_comm_per_pc = []\n",
    "\n",
    "for (comm_count, hour) in comm_hour_list:\n",
    "    hours_comm_per_pc += [(hour, round(comm_count / hour_post_dict[hour],1))]\n",
    "\n",
    "hours_comm_per_pc = sorted( hours_comm_per_pc, key = lambda x: x[1], reverse = True)\n",
    "\n",
    "print(\"The data from below shows the hours with the greatest ratio of comments per posts.\")\n",
    "for item in hours_comm_per_pc:\n",
    "    print(item)\n",
    "\n",
    "    "
   ]
  },
  {
   "cell_type": "markdown",
   "id": "00ef83e0-9b88-44b7-b73e-d663cae38e32",
   "metadata": {},
   "source": [
    "> **The first block of data shows that people are the most active at 2, 14, 15, 16, 18, 20, 21. The greatest number of commentaries per post are during the 15, 2, 20, 16, 21 hours.**"
   ]
  },
  {
   "cell_type": "markdown",
   "id": "a5d1fc6d-c571-4a15-842d-43924cb45dcf",
   "metadata": {},
   "source": [
    "___"
   ]
  },
  {
   "cell_type": "markdown",
   "id": "1eab09e3-7398-4db0-ac3d-98b95f80d1fb",
   "metadata": {
    "jp-MarkdownHeadingCollapsed": true
   },
   "source": [
    "## Printing the comments-to-posts ratio distribution in a readable way"
   ]
  },
  {
   "cell_type": "code",
   "execution_count": 58,
   "id": "71ebd6cd-4277-4fcf-a414-8ea8c6772c59",
   "metadata": {},
   "outputs": [
    {
     "name": "stdout",
     "output_type": "stream",
     "text": [
      " The ratio of comments-per-post is 38.6 during the 15:00s hours\n",
      " The ratio of comments-per-post is 23.8 during the 2:00s hours\n",
      " The ratio of comments-per-post is 21.5 during the 20:00s hours\n",
      " The ratio of comments-per-post is 16.8 during the 16:00s hours\n",
      " The ratio of comments-per-post is 16.0 during the 21:00s hours\n",
      " The ratio of comments-per-post is 14.7 during the 13:00s hours\n",
      " The ratio of comments-per-post is 13.4 during the 10:00s hours\n",
      " The ratio of comments-per-post is 13.2 during the 18:00s hours\n",
      " The ratio of comments-per-post is 13.2 during the 14:00s hours\n",
      " The ratio of comments-per-post is 11.5 during the 17:00s hours\n",
      " The ratio of comments-per-post is 11.4 during the 1:00s hours\n",
      " The ratio of comments-per-post is 11.1 during the 11:00s hours\n",
      " The ratio of comments-per-post is 10.8 during the 19:00s hours\n",
      " The ratio of comments-per-post is 10.2 during the 8:00s hours\n",
      " The ratio of comments-per-post is 10.1 during the 5:00s hours\n",
      " The ratio of comments-per-post is 9.4 during the 12:00s hours\n",
      " The ratio of comments-per-post is 9.0 during the 6:00s hours\n",
      " The ratio of comments-per-post is 8.1 during the 0:00s hours\n",
      " The ratio of comments-per-post is 8.0 during the 23:00s hours\n",
      " The ratio of comments-per-post is 7.9 during the 7:00s hours\n",
      " The ratio of comments-per-post is 7.8 during the 3:00s hours\n",
      " The ratio of comments-per-post is 7.2 during the 4:00s hours\n",
      " The ratio of comments-per-post is 6.7 during the 22:00s hours\n",
      " The ratio of comments-per-post is 5.6 during the 9:00s hours\n"
     ]
    }
   ],
   "source": [
    "for (hour, ratio) in hours_comm_per_pc:\n",
    "    print(f\" The ratio of comments-per-post is {ratio} during the {hour}:00s hours\")"
   ]
  },
  {
   "cell_type": "markdown",
   "id": "9927ec64-b8bd-4640-b5e0-cce9fe2045fa",
   "metadata": {},
   "source": [
    "___"
   ]
  }
 ],
 "metadata": {
  "kernelspec": {
   "display_name": "Python [conda env:base] *",
   "language": "python",
   "name": "conda-base-py"
  },
  "language_info": {
   "codemirror_mode": {
    "name": "ipython",
    "version": 3
   },
   "file_extension": ".py",
   "mimetype": "text/x-python",
   "name": "python",
   "nbconvert_exporter": "python",
   "pygments_lexer": "ipython3",
   "version": "3.13.5"
  }
 },
 "nbformat": 4,
 "nbformat_minor": 5
}
